{
 "cells": [
  {
   "cell_type": "code",
   "execution_count": 1,
   "id": "be0d3968-5086-4674-ad88-d463b113c2c3",
   "metadata": {},
   "outputs": [
    {
     "name": "stderr",
     "output_type": "stream",
     "text": [
      "2024-01-25 23:41:43.699121: I tensorflow/core/platform/cpu_feature_guard.cc:193] This TensorFlow binary is optimized with oneAPI Deep Neural Network Library (oneDNN) to use the following CPU instructions in performance-critical operations:  AVX2 AVX512F AVX512_VNNI AVX512_BF16 AVX_VNNI AMX_TILE AMX_INT8 AMX_BF16 FMA\n",
      "To enable them in other operations, rebuild TensorFlow with the appropriate compiler flags.\n",
      "2024-01-25 23:41:43.798932: I tensorflow/core/util/util.cc:169] oneDNN custom operations are on. You may see slightly different numerical results due to floating-point round-off errors from different computation orders. To turn them off, set the environment variable `TF_ENABLE_ONEDNN_OPTS=0`.\n",
      "2024-01-25 23:41:43.803393: W tensorflow/stream_executor/platform/default/dso_loader.cc:64] Could not load dynamic library 'libcudart.so.11.0'; dlerror: libcudart.so.11.0: cannot open shared object file: No such file or directory\n",
      "2024-01-25 23:41:43.803406: I tensorflow/stream_executor/cuda/cudart_stub.cc:29] Ignore above cudart dlerror if you do not have a GPU set up on your machine.\n",
      "2024-01-25 23:41:43.824723: E tensorflow/stream_executor/cuda/cuda_blas.cc:2981] Unable to register cuBLAS factory: Attempting to register factory for plugin cuBLAS when one has already been registered\n",
      "2024-01-25 23:41:44.340273: W tensorflow/stream_executor/platform/default/dso_loader.cc:64] Could not load dynamic library 'libnvinfer.so.7'; dlerror: libnvinfer.so.7: cannot open shared object file: No such file or directory\n",
      "2024-01-25 23:41:44.340331: W tensorflow/stream_executor/platform/default/dso_loader.cc:64] Could not load dynamic library 'libnvinfer_plugin.so.7'; dlerror: libnvinfer_plugin.so.7: cannot open shared object file: No such file or directory\n",
      "2024-01-25 23:41:44.340335: W tensorflow/compiler/tf2tensorrt/utils/py_utils.cc:38] TF-TRT Warning: Cannot dlopen some TensorRT libraries. If you would like to use Nvidia GPU with TensorRT, please make sure the missing libraries mentioned above are installed properly.\n"
     ]
    }
   ],
   "source": [
    "import numpy as np\n",
    "import matplotlib.pyplot as plt\n",
    "import json\n",
    "import pandas as pd\n",
    "from gensim.corpora import Dictionary\n",
    "import string\n",
    "from nltk.tokenize import word_tokenize\n",
    "from sklearn.model_selection import train_test_split\n",
    "from tensorflow.keras.preprocessing import sequence\n",
    "from tensorflow.keras.models import Sequential\n",
    "from tensorflow.keras.layers import Dense, Embedding\n",
    "from tensorflow.keras.callbacks import EarlyStopping\n",
    "from keras.layers import LSTM\n",
    "from sklearn.metrics import roc_auc_score\n",
    "import boto3"
   ]
  },
  {
   "cell_type": "code",
   "execution_count": 2,
   "id": "5e757693-6186-4f78-af63-a6e26a3b55f5",
   "metadata": {},
   "outputs": [
    {
     "name": "stderr",
     "output_type": "stream",
     "text": [
      "[nltk_data] Downloading package punkt to /home/ubuntu/nltk_data...\n",
      "[nltk_data]   Package punkt is already up-to-date!\n"
     ]
    },
    {
     "data": {
      "text/plain": [
       "True"
      ]
     },
     "execution_count": 2,
     "metadata": {},
     "output_type": "execute_result"
    }
   ],
   "source": [
    "import nltk\n",
    "nltk.download('punkt')"
   ]
  },
  {
   "cell_type": "code",
   "execution_count": 3,
   "id": "eab0cbb6-a423-47bd-9721-5a2a228391c3",
   "metadata": {},
   "outputs": [],
   "source": [
    "s3 = boto3.client('s3')\n",
    "response = s3.list_buckets()"
   ]
  },
  {
   "cell_type": "code",
   "execution_count": 4,
   "id": "2fc7d2fc-6980-4d10-99f1-0e682f4d21db",
   "metadata": {},
   "outputs": [
    {
     "data": {
      "text/plain": [
       "{'ResponseMetadata': {'RequestId': 'ME4K8B5SJGB1QD8T',\n",
       "  'HostId': 'SSOAx43NJeORjxK3gS/x0Lxi7fN00lduUQX858WyncNEILs19G7XZGHrMf7rQyqWoiP664TjvaM=',\n",
       "  'HTTPStatusCode': 200,\n",
       "  'HTTPHeaders': {'x-amz-id-2': 'SSOAx43NJeORjxK3gS/x0Lxi7fN00lduUQX858WyncNEILs19G7XZGHrMf7rQyqWoiP664TjvaM=',\n",
       "   'x-amz-request-id': 'ME4K8B5SJGB1QD8T',\n",
       "   'date': 'Thu, 25 Jan 2024 23:41:48 GMT',\n",
       "   'content-type': 'application/xml',\n",
       "   'transfer-encoding': 'chunked',\n",
       "   'server': 'AmazonS3'},\n",
       "  'RetryAttempts': 0},\n",
       " 'Buckets': [{'Name': 'aws-glue-assets-467245099071-us-east-1',\n",
       "   'CreationDate': datetime.datetime(2024, 1, 13, 13, 35, 34, tzinfo=tzlocal())},\n",
       "  {'Name': 'aws-logs-467245099071-us-east-1',\n",
       "   'CreationDate': datetime.datetime(2024, 1, 13, 14, 43, 33, tzinfo=tzlocal())},\n",
       "  {'Name': 'projekt-athena-dq',\n",
       "   'CreationDate': datetime.datetime(2024, 1, 13, 13, 54, tzinfo=tzlocal())},\n",
       "  {'Name': 'projekt-flink',\n",
       "   'CreationDate': datetime.datetime(2024, 1, 25, 18, 27, 36, tzinfo=tzlocal())},\n",
       "  {'Name': 'projekt-formatted-data',\n",
       "   'CreationDate': datetime.datetime(2024, 1, 13, 13, 27, 30, tzinfo=tzlocal())},\n",
       "  {'Name': 'projekt-landing-zone',\n",
       "   'CreationDate': datetime.datetime(2024, 1, 13, 13, 20, 11, tzinfo=tzlocal())},\n",
       "  {'Name': 'projekt-query-result',\n",
       "   'CreationDate': datetime.datetime(2024, 1, 13, 14, 29, 31, tzinfo=tzlocal())},\n",
       "  {'Name': 'projekt-result',\n",
       "   'CreationDate': datetime.datetime(2024, 1, 13, 15, 0, 49, tzinfo=tzlocal())},\n",
       "  {'Name': 'projekt-spark',\n",
       "   'CreationDate': datetime.datetime(2024, 1, 13, 15, 1, 20, tzinfo=tzlocal())}],\n",
       " 'Owner': {'DisplayName': 'awslabsc0w6919660t1702601479',\n",
       "  'ID': 'b6f9620831a9959403d67c63aa712797efc0e76b1afea078d8878f838a90518a'}}"
      ]
     },
     "execution_count": 4,
     "metadata": {},
     "output_type": "execute_result"
    }
   ],
   "source": [
    "response"
   ]
  },
  {
   "cell_type": "code",
   "execution_count": 6,
   "id": "553306e8-ec15-46be-a113-7e7a71f54716",
   "metadata": {},
   "outputs": [],
   "source": [
    "s3 = boto3.resource('s3')\n",
    "obj = s3.Object(bucket_name='projekt-landing-zone', key='part-01.json')\n",
    "response = obj.get()\n",
    "data = response['Body'].read()"
   ]
  },
  {
   "cell_type": "code",
   "execution_count": 7,
   "id": "989014ed-f846-4a7e-a403-782c1de1f08b",
   "metadata": {},
   "outputs": [],
   "source": [
    "json_test = json.loads(data)"
   ]
  },
  {
   "cell_type": "code",
   "execution_count": 8,
   "id": "a670acb1-92cf-4eaa-b826-7bdd39ca1213",
   "metadata": {},
   "outputs": [],
   "source": [
    "df_pd = pd.DataFrame(json_test)"
   ]
  },
  {
   "cell_type": "code",
   "execution_count": 9,
   "id": "97c829c5-4444-4379-ac21-337a48eec1eb",
   "metadata": {},
   "outputs": [
    {
     "data": {
      "text/html": [
       "<div>\n",
       "<style scoped>\n",
       "    .dataframe tbody tr th:only-of-type {\n",
       "        vertical-align: middle;\n",
       "    }\n",
       "\n",
       "    .dataframe tbody tr th {\n",
       "        vertical-align: top;\n",
       "    }\n",
       "\n",
       "    .dataframe thead th {\n",
       "        text-align: right;\n",
       "    }\n",
       "</style>\n",
       "<table border=\"1\" class=\"dataframe\">\n",
       "  <thead>\n",
       "    <tr style=\"text-align: right;\">\n",
       "      <th></th>\n",
       "      <th>review_id</th>\n",
       "      <th>reviewer</th>\n",
       "      <th>movie</th>\n",
       "      <th>rating</th>\n",
       "      <th>review_summary</th>\n",
       "      <th>review_date</th>\n",
       "      <th>spoiler_tag</th>\n",
       "      <th>review_detail</th>\n",
       "      <th>helpful</th>\n",
       "    </tr>\n",
       "  </thead>\n",
       "  <tbody>\n",
       "    <tr>\n",
       "      <th>0</th>\n",
       "      <td>rw5704482</td>\n",
       "      <td>raeldor-96879</td>\n",
       "      <td>After Life (2019– )</td>\n",
       "      <td>9</td>\n",
       "      <td>Very Strong Season 2</td>\n",
       "      <td>3 May 2020</td>\n",
       "      <td>0</td>\n",
       "      <td>I enjoyed the first season, but I must say I t...</td>\n",
       "      <td>[1, 1]</td>\n",
       "    </tr>\n",
       "    <tr>\n",
       "      <th>1</th>\n",
       "      <td>rw5704483</td>\n",
       "      <td>dosleeb</td>\n",
       "      <td>The Valhalla Murders (2019– )</td>\n",
       "      <td>6</td>\n",
       "      <td>Icelandic detectives?</td>\n",
       "      <td>3 May 2020</td>\n",
       "      <td>0</td>\n",
       "      <td>I know Iceland is a small country and police d...</td>\n",
       "      <td>[2, 2]</td>\n",
       "    </tr>\n",
       "    <tr>\n",
       "      <th>2</th>\n",
       "      <td>rw5704484</td>\n",
       "      <td>brightconscious</td>\n",
       "      <td>Special OPS (2020– )</td>\n",
       "      <td>7</td>\n",
       "      <td>Nothing special</td>\n",
       "      <td>3 May 2020</td>\n",
       "      <td>0</td>\n",
       "      <td>Except K K , no other actor looks comfortable ...</td>\n",
       "      <td>[0, 0]</td>\n",
       "    </tr>\n",
       "    <tr>\n",
       "      <th>3</th>\n",
       "      <td>rw5704485</td>\n",
       "      <td>gasconyway</td>\n",
       "      <td>#BlackAF (2020– )</td>\n",
       "      <td>8</td>\n",
       "      <td>Good but</td>\n",
       "      <td>3 May 2020</td>\n",
       "      <td>0</td>\n",
       "      <td>I'm guessing that as a 62 year old white woman...</td>\n",
       "      <td>[5, 9]</td>\n",
       "    </tr>\n",
       "    <tr>\n",
       "      <th>4</th>\n",
       "      <td>rw5704487</td>\n",
       "      <td>mmason-15867</td>\n",
       "      <td>The Droving (2020)</td>\n",
       "      <td>2</td>\n",
       "      <td>An honest review</td>\n",
       "      <td>3 May 2020</td>\n",
       "      <td>0</td>\n",
       "      <td>Here's the truth. There's not much to this mov...</td>\n",
       "      <td>[26, 41]</td>\n",
       "    </tr>\n",
       "    <tr>\n",
       "      <th>...</th>\n",
       "      <td>...</td>\n",
       "      <td>...</td>\n",
       "      <td>...</td>\n",
       "      <td>...</td>\n",
       "      <td>...</td>\n",
       "      <td>...</td>\n",
       "      <td>...</td>\n",
       "      <td>...</td>\n",
       "      <td>...</td>\n",
       "    </tr>\n",
       "    <tr>\n",
       "      <th>1010288</th>\n",
       "      <td>rw0982994</td>\n",
       "      <td>backseat-2</td>\n",
       "      <td>Flight of the Phoenix (2004)</td>\n",
       "      <td>3</td>\n",
       "      <td>What a waste</td>\n",
       "      <td>21 December 2004</td>\n",
       "      <td>1</td>\n",
       "      <td>The original Flight of the Phoenix is a classi...</td>\n",
       "      <td>[16, 31]</td>\n",
       "    </tr>\n",
       "    <tr>\n",
       "      <th>1010289</th>\n",
       "      <td>rw0982996</td>\n",
       "      <td>Sunshine95</td>\n",
       "      <td>A Series of Unfortunate Events (2004)</td>\n",
       "      <td>10</td>\n",
       "      <td>Lots of Comedy</td>\n",
       "      <td>21 December 2004</td>\n",
       "      <td>1</td>\n",
       "      <td>Lemony Snickets was a Great movie because of t...</td>\n",
       "      <td>[2, 3]</td>\n",
       "    </tr>\n",
       "    <tr>\n",
       "      <th>1010290</th>\n",
       "      <td>rw0982997</td>\n",
       "      <td>ComeAsYouAre91</td>\n",
       "      <td>The Matrix (1999)</td>\n",
       "      <td>8</td>\n",
       "      <td>Why Hate It???</td>\n",
       "      <td>21 December 2004</td>\n",
       "      <td>0</td>\n",
       "      <td>When The Matrix came out I was only twelve yea...</td>\n",
       "      <td>[1, 3]</td>\n",
       "    </tr>\n",
       "    <tr>\n",
       "      <th>1010291</th>\n",
       "      <td>rw0982998</td>\n",
       "      <td>skyymelonpeace44-1</td>\n",
       "      <td>Elf (2003)</td>\n",
       "      <td>8</td>\n",
       "      <td>Best Christmas movie for kids</td>\n",
       "      <td>21 December 2004</td>\n",
       "      <td>0</td>\n",
       "      <td>I think the movie was really good.Its a kids m...</td>\n",
       "      <td>[1, 4]</td>\n",
       "    </tr>\n",
       "    <tr>\n",
       "      <th>1010292</th>\n",
       "      <td>rw0982999</td>\n",
       "      <td>katiedamien</td>\n",
       "      <td>House M.D. (2004–2012)</td>\n",
       "      <td>None</td>\n",
       "      <td>House is great entertainment</td>\n",
       "      <td>21 December 2004</td>\n",
       "      <td>0</td>\n",
       "      <td>My mother and I watch House religiously. Of co...</td>\n",
       "      <td>[8, 12]</td>\n",
       "    </tr>\n",
       "  </tbody>\n",
       "</table>\n",
       "<p>1010293 rows × 9 columns</p>\n",
       "</div>"
      ],
      "text/plain": [
       "         review_id            reviewer                                  movie  \\\n",
       "0        rw5704482       raeldor-96879                    After Life (2019– )   \n",
       "1        rw5704483             dosleeb          The Valhalla Murders (2019– )   \n",
       "2        rw5704484     brightconscious                   Special OPS (2020– )   \n",
       "3        rw5704485          gasconyway                      #BlackAF (2020– )   \n",
       "4        rw5704487        mmason-15867                     The Droving (2020)   \n",
       "...            ...                 ...                                    ...   \n",
       "1010288  rw0982994          backseat-2           Flight of the Phoenix (2004)   \n",
       "1010289  rw0982996          Sunshine95  A Series of Unfortunate Events (2004)   \n",
       "1010290  rw0982997      ComeAsYouAre91                      The Matrix (1999)   \n",
       "1010291  rw0982998  skyymelonpeace44-1                             Elf (2003)   \n",
       "1010292  rw0982999         katiedamien                 House M.D. (2004–2012)   \n",
       "\n",
       "        rating                 review_summary       review_date  spoiler_tag  \\\n",
       "0            9           Very Strong Season 2        3 May 2020            0   \n",
       "1            6          Icelandic detectives?        3 May 2020            0   \n",
       "2            7                Nothing special        3 May 2020            0   \n",
       "3            8                       Good but        3 May 2020            0   \n",
       "4            2               An honest review        3 May 2020            0   \n",
       "...        ...                            ...               ...          ...   \n",
       "1010288      3                   What a waste  21 December 2004            1   \n",
       "1010289     10                 Lots of Comedy  21 December 2004            1   \n",
       "1010290      8                 Why Hate It???  21 December 2004            0   \n",
       "1010291      8  Best Christmas movie for kids  21 December 2004            0   \n",
       "1010292   None   House is great entertainment  21 December 2004            0   \n",
       "\n",
       "                                             review_detail   helpful  \n",
       "0        I enjoyed the first season, but I must say I t...    [1, 1]  \n",
       "1        I know Iceland is a small country and police d...    [2, 2]  \n",
       "2        Except K K , no other actor looks comfortable ...    [0, 0]  \n",
       "3        I'm guessing that as a 62 year old white woman...    [5, 9]  \n",
       "4        Here's the truth. There's not much to this mov...  [26, 41]  \n",
       "...                                                    ...       ...  \n",
       "1010288  The original Flight of the Phoenix is a classi...  [16, 31]  \n",
       "1010289  Lemony Snickets was a Great movie because of t...    [2, 3]  \n",
       "1010290  When The Matrix came out I was only twelve yea...    [1, 3]  \n",
       "1010291  I think the movie was really good.Its a kids m...    [1, 4]  \n",
       "1010292  My mother and I watch House religiously. Of co...   [8, 12]  \n",
       "\n",
       "[1010293 rows x 9 columns]"
      ]
     },
     "execution_count": 9,
     "metadata": {},
     "output_type": "execute_result"
    }
   ],
   "source": [
    "df_pd"
   ]
  },
  {
   "cell_type": "code",
   "execution_count": 10,
   "id": "5d3fcf50-1eb9-4603-9a26-a4f5f167fc67",
   "metadata": {},
   "outputs": [
    {
     "data": {
      "text/plain": [
       "review_id         object\n",
       "reviewer          object\n",
       "movie             object\n",
       "rating            object\n",
       "review_summary    object\n",
       "review_date       object\n",
       "spoiler_tag        int64\n",
       "review_detail     object\n",
       "helpful           object\n",
       "dtype: object"
      ]
     },
     "execution_count": 10,
     "metadata": {},
     "output_type": "execute_result"
    }
   ],
   "source": [
    "df_pd.dtypes"
   ]
  },
  {
   "cell_type": "markdown",
   "id": "9b07108e-7019-4327-9d46-c7d4d22f6e1b",
   "metadata": {},
   "source": [
    "### Missing number analysis"
   ]
  },
  {
   "cell_type": "code",
   "execution_count": 11,
   "id": "97d30060-4dec-47bf-9c80-034ff8907d5b",
   "metadata": {},
   "outputs": [
    {
     "data": {
      "text/plain": [
       "review_id             0\n",
       "reviewer              0\n",
       "movie                 0\n",
       "rating            51520\n",
       "review_summary        0\n",
       "review_date           0\n",
       "spoiler_tag           0\n",
       "review_detail         0\n",
       "helpful               0\n",
       "dtype: int64"
      ]
     },
     "execution_count": 11,
     "metadata": {},
     "output_type": "execute_result"
    }
   ],
   "source": [
    "df_pd.isna().sum()"
   ]
  },
  {
   "cell_type": "code",
   "execution_count": 12,
   "id": "d098e421-ad1a-43ab-9dbb-f17c77fe4207",
   "metadata": {},
   "outputs": [],
   "source": [
    "df_pd1 = df_pd.copy()\n",
    "df_pd1['rating'] = df_pd['rating'].fillna(np.nan).astype('float64')\n",
    "df_pd1['helpful_0'] = df_pd['helpful'].apply(lambda x: x[0]).str.replace(\",\",\"\").astype('int64')\n",
    "df_pd1['helpful_1'] = df_pd['helpful'].apply(lambda x: x[1]).str.replace(\",\",\"\").astype('int64')\n",
    "df_pd1['helpful_perc'] = df_pd1['helpful_0']/df_pd1['helpful_1']\n",
    "df_pd1['review_dt'] = pd.to_datetime(df_pd['review_date'],format=\"%d %B %Y\")\n",
    "df_pd1['review_year'] = df_pd1['review_dt'].dt.to_period('Y')\n",
    "df_pd1['review_month'] = df_pd1['review_dt'].dt.to_period('M')\n",
    "df_pd1['movie_year'] = df_pd['movie'].str.extract(r\"\\((\\d+[^\\)]*)\\)[^\\(]*$\",expand=False).str.extract(r\"(\\d+)\",expand=False).astype('float64')"
   ]
  },
  {
   "cell_type": "code",
   "execution_count": 13,
   "id": "b637ccd4-1d32-4c4d-8b8c-b9d46d64bb5a",
   "metadata": {},
   "outputs": [
    {
     "data": {
      "text/html": [
       "<div>\n",
       "<style scoped>\n",
       "    .dataframe tbody tr th:only-of-type {\n",
       "        vertical-align: middle;\n",
       "    }\n",
       "\n",
       "    .dataframe tbody tr th {\n",
       "        vertical-align: top;\n",
       "    }\n",
       "\n",
       "    .dataframe thead th {\n",
       "        text-align: right;\n",
       "    }\n",
       "</style>\n",
       "<table border=\"1\" class=\"dataframe\">\n",
       "  <thead>\n",
       "    <tr style=\"text-align: right;\">\n",
       "      <th></th>\n",
       "      <th>review_id</th>\n",
       "      <th>reviewer</th>\n",
       "      <th>movie</th>\n",
       "      <th>rating</th>\n",
       "      <th>review_summary</th>\n",
       "      <th>review_date</th>\n",
       "      <th>spoiler_tag</th>\n",
       "      <th>review_detail</th>\n",
       "      <th>helpful</th>\n",
       "      <th>helpful_0</th>\n",
       "      <th>helpful_1</th>\n",
       "      <th>helpful_perc</th>\n",
       "      <th>review_dt</th>\n",
       "      <th>review_year</th>\n",
       "      <th>review_month</th>\n",
       "      <th>movie_year</th>\n",
       "    </tr>\n",
       "  </thead>\n",
       "  <tbody>\n",
       "    <tr>\n",
       "      <th>0</th>\n",
       "      <td>rw5704482</td>\n",
       "      <td>raeldor-96879</td>\n",
       "      <td>After Life (2019– )</td>\n",
       "      <td>9.0</td>\n",
       "      <td>Very Strong Season 2</td>\n",
       "      <td>3 May 2020</td>\n",
       "      <td>0</td>\n",
       "      <td>I enjoyed the first season, but I must say I t...</td>\n",
       "      <td>[1, 1]</td>\n",
       "      <td>1</td>\n",
       "      <td>1</td>\n",
       "      <td>1.000000</td>\n",
       "      <td>2020-05-03</td>\n",
       "      <td>2020</td>\n",
       "      <td>2020-05</td>\n",
       "      <td>2019.0</td>\n",
       "    </tr>\n",
       "    <tr>\n",
       "      <th>1</th>\n",
       "      <td>rw5704483</td>\n",
       "      <td>dosleeb</td>\n",
       "      <td>The Valhalla Murders (2019– )</td>\n",
       "      <td>6.0</td>\n",
       "      <td>Icelandic detectives?</td>\n",
       "      <td>3 May 2020</td>\n",
       "      <td>0</td>\n",
       "      <td>I know Iceland is a small country and police d...</td>\n",
       "      <td>[2, 2]</td>\n",
       "      <td>2</td>\n",
       "      <td>2</td>\n",
       "      <td>1.000000</td>\n",
       "      <td>2020-05-03</td>\n",
       "      <td>2020</td>\n",
       "      <td>2020-05</td>\n",
       "      <td>2019.0</td>\n",
       "    </tr>\n",
       "    <tr>\n",
       "      <th>2</th>\n",
       "      <td>rw5704484</td>\n",
       "      <td>brightconscious</td>\n",
       "      <td>Special OPS (2020– )</td>\n",
       "      <td>7.0</td>\n",
       "      <td>Nothing special</td>\n",
       "      <td>3 May 2020</td>\n",
       "      <td>0</td>\n",
       "      <td>Except K K , no other actor looks comfortable ...</td>\n",
       "      <td>[0, 0]</td>\n",
       "      <td>0</td>\n",
       "      <td>0</td>\n",
       "      <td>NaN</td>\n",
       "      <td>2020-05-03</td>\n",
       "      <td>2020</td>\n",
       "      <td>2020-05</td>\n",
       "      <td>2020.0</td>\n",
       "    </tr>\n",
       "    <tr>\n",
       "      <th>3</th>\n",
       "      <td>rw5704485</td>\n",
       "      <td>gasconyway</td>\n",
       "      <td>#BlackAF (2020– )</td>\n",
       "      <td>8.0</td>\n",
       "      <td>Good but</td>\n",
       "      <td>3 May 2020</td>\n",
       "      <td>0</td>\n",
       "      <td>I'm guessing that as a 62 year old white woman...</td>\n",
       "      <td>[5, 9]</td>\n",
       "      <td>5</td>\n",
       "      <td>9</td>\n",
       "      <td>0.555556</td>\n",
       "      <td>2020-05-03</td>\n",
       "      <td>2020</td>\n",
       "      <td>2020-05</td>\n",
       "      <td>2020.0</td>\n",
       "    </tr>\n",
       "    <tr>\n",
       "      <th>4</th>\n",
       "      <td>rw5704487</td>\n",
       "      <td>mmason-15867</td>\n",
       "      <td>The Droving (2020)</td>\n",
       "      <td>2.0</td>\n",
       "      <td>An honest review</td>\n",
       "      <td>3 May 2020</td>\n",
       "      <td>0</td>\n",
       "      <td>Here's the truth. There's not much to this mov...</td>\n",
       "      <td>[26, 41]</td>\n",
       "      <td>26</td>\n",
       "      <td>41</td>\n",
       "      <td>0.634146</td>\n",
       "      <td>2020-05-03</td>\n",
       "      <td>2020</td>\n",
       "      <td>2020-05</td>\n",
       "      <td>2020.0</td>\n",
       "    </tr>\n",
       "  </tbody>\n",
       "</table>\n",
       "</div>"
      ],
      "text/plain": [
       "   review_id         reviewer                          movie  rating  \\\n",
       "0  rw5704482    raeldor-96879            After Life (2019– )     9.0   \n",
       "1  rw5704483          dosleeb  The Valhalla Murders (2019– )     6.0   \n",
       "2  rw5704484  brightconscious           Special OPS (2020– )     7.0   \n",
       "3  rw5704485       gasconyway              #BlackAF (2020– )     8.0   \n",
       "4  rw5704487     mmason-15867             The Droving (2020)     2.0   \n",
       "\n",
       "          review_summary review_date  spoiler_tag  \\\n",
       "0   Very Strong Season 2  3 May 2020            0   \n",
       "1  Icelandic detectives?  3 May 2020            0   \n",
       "2        Nothing special  3 May 2020            0   \n",
       "3               Good but  3 May 2020            0   \n",
       "4       An honest review  3 May 2020            0   \n",
       "\n",
       "                                       review_detail   helpful  helpful_0  \\\n",
       "0  I enjoyed the first season, but I must say I t...    [1, 1]          1   \n",
       "1  I know Iceland is a small country and police d...    [2, 2]          2   \n",
       "2  Except K K , no other actor looks comfortable ...    [0, 0]          0   \n",
       "3  I'm guessing that as a 62 year old white woman...    [5, 9]          5   \n",
       "4  Here's the truth. There's not much to this mov...  [26, 41]         26   \n",
       "\n",
       "   helpful_1  helpful_perc  review_dt review_year review_month  movie_year  \n",
       "0          1      1.000000 2020-05-03        2020      2020-05      2019.0  \n",
       "1          2      1.000000 2020-05-03        2020      2020-05      2019.0  \n",
       "2          0           NaN 2020-05-03        2020      2020-05      2020.0  \n",
       "3          9      0.555556 2020-05-03        2020      2020-05      2020.0  \n",
       "4         41      0.634146 2020-05-03        2020      2020-05      2020.0  "
      ]
     },
     "execution_count": 13,
     "metadata": {},
     "output_type": "execute_result"
    }
   ],
   "source": [
    "df_pd1.head()"
   ]
  },
  {
   "cell_type": "code",
   "execution_count": 14,
   "id": "7dd42595-b1d4-4d1d-8f7c-cd79396d2f0b",
   "metadata": {},
   "outputs": [
    {
     "data": {
      "text/plain": [
       "review_id                 object\n",
       "reviewer                  object\n",
       "movie                     object\n",
       "rating                   float64\n",
       "review_summary            object\n",
       "review_date               object\n",
       "spoiler_tag                int64\n",
       "review_detail             object\n",
       "helpful                   object\n",
       "helpful_0                  int64\n",
       "helpful_1                  int64\n",
       "helpful_perc             float64\n",
       "review_dt         datetime64[ns]\n",
       "review_year        period[A-DEC]\n",
       "review_month           period[M]\n",
       "movie_year               float64\n",
       "dtype: object"
      ]
     },
     "execution_count": 14,
     "metadata": {},
     "output_type": "execute_result"
    }
   ],
   "source": [
    "df_pd1.dtypes"
   ]
  },
  {
   "cell_type": "markdown",
   "id": "c12abfd2-7873-499a-9d4e-b870f661b98f",
   "metadata": {},
   "source": [
    "### Użytkownicy mający najwięcej recenzji - top 10"
   ]
  },
  {
   "cell_type": "code",
   "execution_count": 15,
   "id": "ca7b8951-dd91-4d46-8fe2-a9b14eee6047",
   "metadata": {},
   "outputs": [
    {
     "data": {
      "text/plain": [
       "reviewer\n",
       "SnoopyStyle             4239\n",
       "MartinHafer             3467\n",
       "lor_                    2609\n",
       "bkoganbing              2435\n",
       "Horst_In_Translation    2381\n",
       "Kirpianuscus            2259\n",
       "Leofwine_draca          2205\n",
       "boblipton               2193\n",
       "TheLittleSongbird       2180\n",
       "Prismark10              2159\n",
       "dtype: int64"
      ]
     },
     "execution_count": 15,
     "metadata": {},
     "output_type": "execute_result"
    }
   ],
   "source": [
    "reviewer_cnt = df_pd1.groupby('reviewer').size()\n",
    "\n",
    "reviewer_cnt.sort_values(ascending=False).head(10)"
   ]
  },
  {
   "cell_type": "markdown",
   "id": "0e331c0b-73b6-4a22-a251-714fdd7047cf",
   "metadata": {},
   "source": [
    "### Statystyki liczby recenzji na użytkownika"
   ]
  },
  {
   "cell_type": "code",
   "execution_count": 16,
   "id": "84beb6b3-7d9a-438e-883a-79a217d37195",
   "metadata": {},
   "outputs": [
    {
     "data": {
      "text/plain": [
       "count    419066.000000\n",
       "mean          2.410821\n",
       "std          19.240279\n",
       "min           1.000000\n",
       "1%            1.000000\n",
       "5%            1.000000\n",
       "10%           1.000000\n",
       "25%           1.000000\n",
       "50%           1.000000\n",
       "75%           2.000000\n",
       "90%           3.000000\n",
       "95%           5.000000\n",
       "99%          19.000000\n",
       "max        4239.000000\n",
       "dtype: float64"
      ]
     },
     "execution_count": 16,
     "metadata": {},
     "output_type": "execute_result"
    }
   ],
   "source": [
    "reviewer_cnt.describe(percentiles=[0.01,0.05,0.1,0.25,0.5,0.75,0.9,0.95,0.99])"
   ]
  },
  {
   "cell_type": "markdown",
   "id": "ad969052-4286-4b36-a5af-255c789817a1",
   "metadata": {},
   "source": [
    "### Najczęściej oceniane filmy"
   ]
  },
  {
   "cell_type": "code",
   "execution_count": 17,
   "id": "952e5346-bafa-4161-be4d-d320181d7a69",
   "metadata": {},
   "outputs": [
    {
     "data": {
      "text/plain": [
       "movie\n",
       "Dil Bechara (2020)                                     7633\n",
       "Wonder Woman 1984 (2020)                               6810\n",
       "小丑 (2019)                                              6363\n",
       "STAR WARS：天行者的崛起 (2019)                                5147\n",
       "Laxmii (2020)                                          4748\n",
       "Gunjan Saxena: The Kargil Girl (2020)                  4336\n",
       "Supernatural: Carry On (2020) Season 15, Episode 20    3624\n",
       "Coolie No. 1 (2020)                                    3319\n",
       "Tenet (2020)                                           3122\n",
       "Scam 1992: The Harshad Mehta Story (2020)              3044\n",
       "dtype: int64"
      ]
     },
     "execution_count": 17,
     "metadata": {},
     "output_type": "execute_result"
    }
   ],
   "source": [
    "movie_cnt = df_pd1.groupby('movie').size()\n",
    "\n",
    "movie_cnt.sort_values(ascending=False).head(10)"
   ]
  },
  {
   "cell_type": "markdown",
   "id": "3e5416e2-ee04-4e3e-b4c0-8b545d21d4b9",
   "metadata": {},
   "source": [
    "### Najlepiej oceniane filmy\n",
    "\n",
    "Liczymy następującą miarę (podobną do stosowanej na Filmwebie):\n",
    "\n",
    "$W = \\frac{n}{n+100} R + \\frac{100}{n+100} \\bar{R},$\n",
    "\n",
    "gdzie:\n",
    "\n",
    "* $W$ - ranking filmu,\n",
    "\n",
    "* $n$ - liczba ocen,\n",
    "\n",
    "* $R$ - średnia ocena danego filmu,\n",
    "\n",
    "* $\\bar{R}$ - średnia ocen ze wszystkich recenzji.\n",
    "\n",
    "Dzięki policzeniu powyższej miary w ten sposób odsiejemy filmy ocenione przez niewielką liczbę osób."
   ]
  },
  {
   "cell_type": "code",
   "execution_count": 18,
   "id": "ce209727-93a3-4e86-b2ef-7688c830059c",
   "metadata": {},
   "outputs": [
    {
     "data": {
      "text/html": [
       "<div>\n",
       "<style scoped>\n",
       "    .dataframe tbody tr th:only-of-type {\n",
       "        vertical-align: middle;\n",
       "    }\n",
       "\n",
       "    .dataframe tbody tr th {\n",
       "        vertical-align: top;\n",
       "    }\n",
       "\n",
       "    .dataframe thead th {\n",
       "        text-align: right;\n",
       "    }\n",
       "</style>\n",
       "<table border=\"1\" class=\"dataframe\">\n",
       "  <thead>\n",
       "    <tr style=\"text-align: right;\">\n",
       "      <th></th>\n",
       "      <th>movie</th>\n",
       "      <th>mean_rating</th>\n",
       "      <th>n</th>\n",
       "      <th>W</th>\n",
       "    </tr>\n",
       "  </thead>\n",
       "  <tbody>\n",
       "    <tr>\n",
       "      <th>104051</th>\n",
       "      <td>Scam 1992: The Harshad Mehta Story (2020)</td>\n",
       "      <td>9.818421</td>\n",
       "      <td>3044</td>\n",
       "      <td>9.719364</td>\n",
       "    </tr>\n",
       "    <tr>\n",
       "      <th>123117</th>\n",
       "      <td>The Chosen (2017– )</td>\n",
       "      <td>9.928154</td>\n",
       "      <td>1208</td>\n",
       "      <td>9.681663</td>\n",
       "    </tr>\n",
       "    <tr>\n",
       "      <th>34447</th>\n",
       "      <td>Dil Bechara (2020)</td>\n",
       "      <td>9.720147</td>\n",
       "      <td>7633</td>\n",
       "      <td>9.681144</td>\n",
       "    </tr>\n",
       "    <tr>\n",
       "      <th>148739</th>\n",
       "      <td>Uncle Tom (2020)</td>\n",
       "      <td>9.823797</td>\n",
       "      <td>1131</td>\n",
       "      <td>9.570365</td>\n",
       "    </tr>\n",
       "    <tr>\n",
       "      <th>11296</th>\n",
       "      <td>Atkan Chatkan (2020)</td>\n",
       "      <td>9.885621</td>\n",
       "      <td>613</td>\n",
       "      <td>9.439398</td>\n",
       "    </tr>\n",
       "    <tr>\n",
       "      <th>110256</th>\n",
       "      <td>Soorarai Pottru (2020)</td>\n",
       "      <td>9.599069</td>\n",
       "      <td>1510</td>\n",
       "      <td>9.419254</td>\n",
       "    </tr>\n",
       "    <tr>\n",
       "      <th>132492</th>\n",
       "      <td>The Mandalorian: Chapter 16: The Rescue (2020)...</td>\n",
       "      <td>9.616939</td>\n",
       "      <td>1053</td>\n",
       "      <td>9.364304</td>\n",
       "    </tr>\n",
       "    <tr>\n",
       "      <th>26955</th>\n",
       "      <td>Comedy Couple (2020)</td>\n",
       "      <td>9.800659</td>\n",
       "      <td>607</td>\n",
       "      <td>9.362666</td>\n",
       "    </tr>\n",
       "    <tr>\n",
       "      <th>144927</th>\n",
       "      <td>Tiki Taka (2020)</td>\n",
       "      <td>9.877670</td>\n",
       "      <td>515</td>\n",
       "      <td>9.361634</td>\n",
       "    </tr>\n",
       "    <tr>\n",
       "      <th>30465</th>\n",
       "      <td>Dark 7 White (2020– )</td>\n",
       "      <td>9.728183</td>\n",
       "      <td>701</td>\n",
       "      <td>9.350639</td>\n",
       "    </tr>\n",
       "  </tbody>\n",
       "</table>\n",
       "</div>"
      ],
      "text/plain": [
       "                                                    movie  mean_rating     n  \\\n",
       "104051          Scam 1992: The Harshad Mehta Story (2020)     9.818421  3044   \n",
       "123117                                The Chosen (2017– )     9.928154  1208   \n",
       "34447                                  Dil Bechara (2020)     9.720147  7633   \n",
       "148739                                   Uncle Tom (2020)     9.823797  1131   \n",
       "11296                                Atkan Chatkan (2020)     9.885621   613   \n",
       "110256                             Soorarai Pottru (2020)     9.599069  1510   \n",
       "132492  The Mandalorian: Chapter 16: The Rescue (2020)...     9.616939  1053   \n",
       "26955                                Comedy Couple (2020)     9.800659   607   \n",
       "144927                                   Tiki Taka (2020)     9.877670   515   \n",
       "30465                               Dark 7 White (2020– )     9.728183   701   \n",
       "\n",
       "               W  \n",
       "104051  9.719364  \n",
       "123117  9.681663  \n",
       "34447   9.681144  \n",
       "148739  9.570365  \n",
       "11296   9.439398  \n",
       "110256  9.419254  \n",
       "132492  9.364304  \n",
       "26955   9.362666  \n",
       "144927  9.361634  \n",
       "30465   9.350639  "
      ]
     },
     "execution_count": 18,
     "metadata": {},
     "output_type": "execute_result"
    }
   ],
   "source": [
    "n_rev_movie = df_pd1.groupby('movie').size().reset_index().rename({0:'n'}, axis = 1)\n",
    "mean_rating = df_pd1['rating'].mean()\n",
    "mean_rating_movie = df_pd1.groupby('movie')['rating'].mean().reset_index()\n",
    "df_W0 = mean_rating_movie.merge(n_rev_movie,how='left',on='movie')\n",
    "df_W0['W'] = df_W0['n']/(df_W0['n'] + 100) * df_W0['rating'] + 100/(df_W0['n'] + 100) * mean_rating\n",
    "\n",
    "df_W0.sort_values('W',ascending=False).head(10).rename({'rating':'mean_rating'},axis=1)"
   ]
  },
  {
   "cell_type": "markdown",
   "id": "8892ad59-f738-4fd5-b0a0-1c47ae6b63fb",
   "metadata": {},
   "source": [
    "### Rozkład ocen"
   ]
  },
  {
   "cell_type": "code",
   "execution_count": 19,
   "id": "deeba606-2142-4554-91a9-777f94051016",
   "metadata": {},
   "outputs": [
    {
     "data": {
      "image/png": "[encoded data removed]",
      "text/plain": [
       "<Figure size 640x480 with 1 Axes>"
      ]
     },
     "metadata": {},
     "output_type": "display_data"
    }
   ],
   "source": [
    "n_ratings = df_pd1.groupby('rating').size().reset_index().rename({0:'n'},axis=1)\n",
    "plt.bar(n_ratings['rating'].astype('string'),n_ratings['n'])\n",
    "plt.show()"
   ]
  },
  {
   "cell_type": "markdown",
   "id": "4dce1d77-9c59-444a-a9bf-c3b1110a5ba4",
   "metadata": {},
   "source": [
    "### Rozkład długości podsumowania recenzji (wg liczby słów)"
   ]
  },
  {
   "cell_type": "code",
   "execution_count": 20,
   "id": "dc03d1a6-477d-4ccb-b1a6-3f36c921235f",
   "metadata": {},
   "outputs": [
    {
     "data": {
      "text/plain": [
       "count    1.010293e+06\n",
       "mean     5.121441e+00\n",
       "std      3.664155e+00\n",
       "min      0.000000e+00\n",
       "25%      3.000000e+00\n",
       "50%      4.000000e+00\n",
       "75%      7.000000e+00\n",
       "max      5.700000e+02\n",
       "Name: review_summary, dtype: float64"
      ]
     },
     "execution_count": 20,
     "metadata": {},
     "output_type": "execute_result"
    }
   ],
   "source": [
    "review_summary_len = df_pd1['review_summary'].apply(lambda x: len(x.split()))\n",
    "review_summary_len.describe()"
   ]
  },
  {
   "cell_type": "markdown",
   "id": "2e8c6daf-1449-46d9-aa63-ca0fb6610b7a",
   "metadata": {},
   "source": [
    "### Histogram dla długości podsumowania recenzji"
   ]
  },
  {
   "cell_type": "code",
   "execution_count": 21,
   "id": "8acf1a19-7bb1-421e-a410-b60af54891a9",
   "metadata": {},
   "outputs": [
    {
     "data": {
      "image/png": "[encoded data removed]",
      "text/plain": [
       "<Figure size 640x480 with 1 Axes>"
      ]
     },
     "metadata": {},
     "output_type": "display_data"
    }
   ],
   "source": [
    "plt.hist(review_summary_len,range=(0,30))\n",
    "plt.show()"
   ]
  },
  {
   "cell_type": "markdown",
   "id": "0be98aa2-18bf-498d-b11c-242e28ba116c",
   "metadata": {},
   "source": [
    "### Rozkład długości recenzji (wg liczby słów)"
   ]
  },
  {
   "cell_type": "code",
   "execution_count": 22,
   "id": "09ee2a8d-2ea6-4e7f-8f99-5498e65bf7bd",
   "metadata": {},
   "outputs": [
    {
     "data": {
      "text/plain": [
       "count    1.010293e+06\n",
       "mean     1.456024e+02\n",
       "std      1.687053e+02\n",
       "min      1.000000e+00\n",
       "25%      3.600000e+01\n",
       "50%      9.400000e+01\n",
       "75%      1.830000e+02\n",
       "max      3.339000e+03\n",
       "Name: review_detail, dtype: float64"
      ]
     },
     "execution_count": 22,
     "metadata": {},
     "output_type": "execute_result"
    }
   ],
   "source": [
    "review_len = df_pd1['review_detail'].apply(lambda x: len(x.split()))\n",
    "review_len.describe()"
   ]
  },
  {
   "cell_type": "markdown",
   "id": "10052f01-81d7-4a96-b844-20b8aa491a24",
   "metadata": {},
   "source": [
    "### Histogram dla długości recenzji"
   ]
  },
  {
   "cell_type": "code",
   "execution_count": 23,
   "id": "f28840b8-b387-4495-9000-ef3a6d8b8559",
   "metadata": {},
   "outputs": [
    {
     "data": {
      "image/png": "[encoded data removed]",
      "text/plain": [
       "<Figure size 640x480 with 1 Axes>"
      ]
     },
     "metadata": {},
     "output_type": "display_data"
    }
   ],
   "source": [
    "plt.hist(review_len,range=(0,1000),bins=50)\n",
    "plt.show()"
   ]
  },
  {
   "cell_type": "markdown",
   "id": "b6e1d659-0a04-4e00-9864-7d605c4075d2",
   "metadata": {},
   "source": [
    "### Helpful_0 - rozkład"
   ]
  },
  {
   "cell_type": "code",
   "execution_count": 24,
   "id": "3e21a5ba-aefe-4b64-9b9b-a143aedd4c84",
   "metadata": {},
   "outputs": [
    {
     "data": {
      "text/plain": [
       "count    1.010293e+06\n",
       "mean     5.795557e+00\n",
       "std      2.906494e+01\n",
       "min      0.000000e+00\n",
       "25%      0.000000e+00\n",
       "50%      1.000000e+00\n",
       "75%      4.000000e+00\n",
       "max      6.201000e+03\n",
       "Name: helpful_0, dtype: float64"
      ]
     },
     "execution_count": 24,
     "metadata": {},
     "output_type": "execute_result"
    }
   ],
   "source": [
    "df_pd1['helpful_0'].describe()"
   ]
  },
  {
   "cell_type": "code",
   "execution_count": 25,
   "id": "41376167-01a5-4e9b-8c47-9e5f5d41259a",
   "metadata": {},
   "outputs": [
    {
     "data": {
      "image/png": "[encoded data removed]",
      "text/plain": [
       "<Figure size 640x480 with 1 Axes>"
      ]
     },
     "metadata": {},
     "output_type": "display_data"
    }
   ],
   "source": [
    "plt.hist(df_pd1['helpful_0'],range=(0,20))\n",
    "plt.show()"
   ]
  },
  {
   "cell_type": "markdown",
   "id": "e3a307c2-4f93-48f6-9992-308b5d033675",
   "metadata": {},
   "source": [
    "### Helpful_1 - rozkład"
   ]
  },
  {
   "cell_type": "code",
   "execution_count": 26,
   "id": "bfad2674-ae37-4df9-8d4c-7ac5ceb1fdda",
   "metadata": {},
   "outputs": [
    {
     "data": {
      "text/plain": [
       "count    1.010293e+06\n",
       "mean     1.074100e+01\n",
       "std      4.506193e+01\n",
       "min      0.000000e+00\n",
       "25%      1.000000e+00\n",
       "50%      3.000000e+00\n",
       "75%      8.000000e+00\n",
       "max      8.771000e+03\n",
       "Name: helpful_1, dtype: float64"
      ]
     },
     "execution_count": 26,
     "metadata": {},
     "output_type": "execute_result"
    }
   ],
   "source": [
    "df_pd1['helpful_1'].describe()"
   ]
  },
  {
   "cell_type": "code",
   "execution_count": 27,
   "id": "fa15be41-6f3a-46e5-a499-8d81a9a3406a",
   "metadata": {},
   "outputs": [
    {
     "data": {
      "image/png": "[encoded data removed]",
      "text/plain": [
       "<Figure size 640x480 with 1 Axes>"
      ]
     },
     "metadata": {},
     "output_type": "display_data"
    }
   ],
   "source": [
    "plt.hist(df_pd1['helpful_1'],range=(0,40))\n",
    "plt.show()"
   ]
  },
  {
   "cell_type": "markdown",
   "id": "f704092f-f319-44fb-aea1-4d63333ccbfe",
   "metadata": {},
   "source": [
    "### Rozkład helpful_perc"
   ]
  },
  {
   "cell_type": "code",
   "execution_count": 28,
   "id": "3783df74-6d3f-4ac0-8db3-f583d689b02f",
   "metadata": {},
   "outputs": [
    {
     "data": {
      "text/plain": [
       "count    764498.000000\n",
       "mean          0.516735\n",
       "std           0.329960\n",
       "min           0.000000\n",
       "25%           0.285714\n",
       "50%           0.500000\n",
       "75%           0.758386\n",
       "max           1.000000\n",
       "Name: helpful_perc, dtype: float64"
      ]
     },
     "execution_count": 28,
     "metadata": {},
     "output_type": "execute_result"
    }
   ],
   "source": [
    "df_pd1['helpful_perc'].describe()"
   ]
  },
  {
   "cell_type": "code",
   "execution_count": 29,
   "id": "8747da3f-8fa9-4870-a468-28b2612f9288",
   "metadata": {},
   "outputs": [
    {
     "data": {
      "image/png": "[encoded data removed]",
      "text/plain": [
       "<Figure size 640x480 with 1 Axes>"
      ]
     },
     "metadata": {},
     "output_type": "display_data"
    }
   ],
   "source": [
    "plt.hist(df_pd1['helpful_perc'])\n",
    "plt.show()"
   ]
  },
  {
   "cell_type": "markdown",
   "id": "4f9bdccb-b6fa-4569-9e3e-68e1b26d55a2",
   "metadata": {},
   "source": [
    "### Rozkład helpful_perc tam, gdzie helpful_1>=med(helpful_1)=3"
   ]
  },
  {
   "cell_type": "code",
   "execution_count": 30,
   "id": "1f61090f-2e6d-48b0-80e2-11a3100728c6",
   "metadata": {},
   "outputs": [
    {
     "data": {
      "text/plain": [
       "count    513872.000000\n",
       "mean          0.506657\n",
       "std           0.253232\n",
       "min           0.000000\n",
       "25%           0.333333\n",
       "50%           0.500000\n",
       "75%           0.666667\n",
       "max           1.000000\n",
       "Name: helpful_perc, dtype: float64"
      ]
     },
     "execution_count": 30,
     "metadata": {},
     "output_type": "execute_result"
    }
   ],
   "source": [
    "w = df_pd1.loc[df_pd1['helpful_1']>=3,:]['helpful_perc']\n",
    "w.describe()"
   ]
  },
  {
   "cell_type": "code",
   "execution_count": 31,
   "id": "121f8594-2299-4b8b-b83d-daa0d6169c62",
   "metadata": {},
   "outputs": [
    {
     "data": {
      "image/png": "[encoded data removed]",
      "text/plain": [
       "<Figure size 640x480 with 1 Axes>"
      ]
     },
     "metadata": {},
     "output_type": "display_data"
    }
   ],
   "source": [
    "plt.hist(w)\n",
    "plt.show()"
   ]
  },
  {
   "cell_type": "markdown",
   "id": "95fb5afa-10f8-40dc-90eb-c5900b01d521",
   "metadata": {},
   "source": [
    "### Rozkład helpful_perc a rating"
   ]
  },
  {
   "cell_type": "code",
   "execution_count": 32,
   "id": "737bdb9b-36d0-492f-b27f-8ef21a47075a",
   "metadata": {},
   "outputs": [
    {
     "data": {
      "image/png": "[encoded data removed]",
      "text/plain": [
       "<Figure size 640x480 with 1 Axes>"
      ]
     },
     "metadata": {},
     "output_type": "display_data"
    }
   ],
   "source": [
    "df_sample = df_pd1.sample(1000)\n",
    "\n",
    "mean_helpful_perc_per_rating = df_pd1.groupby(['rating'])['helpful_perc'].mean().reset_index()\n",
    "\n",
    "plt.scatter(df_sample['rating'],df_sample['helpful_perc'],alpha=0.4)\n",
    "plt.plot(mean_helpful_perc_per_rating['rating'],mean_helpful_perc_per_rating['helpful_perc'])\n",
    "plt.show()"
   ]
  },
  {
   "cell_type": "markdown",
   "id": "41c76bbd-35c7-4079-8249-a3bd7bf0213f",
   "metadata": {},
   "source": [
    "### Spoiler tag a rating"
   ]
  },
  {
   "cell_type": "code",
   "execution_count": 33,
   "id": "f3f5d436-a3a8-4964-9d58-57bab86b0a71",
   "metadata": {},
   "outputs": [
    {
     "data": {
      "image/png": "[encoded data removed]",
      "text/plain": [
       "<Figure size 640x480 with 1 Axes>"
      ]
     },
     "metadata": {},
     "output_type": "display_data"
    }
   ],
   "source": [
    "mean_spoiler_tag_per_rating = df_pd1.groupby(['rating'])['spoiler_tag'].mean().reset_index()\n",
    "plt.plot(mean_spoiler_tag_per_rating['rating'],mean_spoiler_tag_per_rating['spoiler_tag'])\n",
    "plt.show()"
   ]
  }
 ],
 "metadata": {
  "kernelspec": {
   "display_name": "Python 3 (ipykernel)",
   "language": "python",
   "name": "python3"
  },
  "language_info": {
   "codemirror_mode": {
    "name": "ipython",
    "version": 3
   },
   "file_extension": ".py",
   "mimetype": "text/x-python",
   "name": "python",
   "nbconvert_exporter": "python",
   "pygments_lexer": "ipython3",
   "version": "3.10.12"
  }
 },
 "nbformat": 4,
 "nbformat_minor": 5
}
