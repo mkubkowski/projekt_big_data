{
 "cells": [
  {
   "cell_type": "code",
   "execution_count": 1,
   "id": "be0d3968-5086-4674-ad88-d463b113c2c3",
   "metadata": {},
   "outputs": [
    {
     "name": "stderr",
     "output_type": "stream",
     "text": [
      "2024-01-16 15:33:49.805194: I tensorflow/core/platform/cpu_feature_guard.cc:193] This TensorFlow binary is optimized with oneAPI Deep Neural Network Library (oneDNN) to use the following CPU instructions in performance-critical operations:  AVX2 FMA\n",
      "To enable them in other operations, rebuild TensorFlow with the appropriate compiler flags.\n",
      "2024-01-16 15:33:49.948241: W tensorflow/stream_executor/platform/default/dso_loader.cc:64] Could not load dynamic library 'libcudart.so.11.0'; dlerror: libcudart.so.11.0: cannot open shared object file: No such file or directory\n",
      "2024-01-16 15:33:49.948266: I tensorflow/stream_executor/cuda/cudart_stub.cc:29] Ignore above cudart dlerror if you do not have a GPU set up on your machine.\n",
      "2024-01-16 15:33:49.984753: E tensorflow/stream_executor/cuda/cuda_blas.cc:2981] Unable to register cuBLAS factory: Attempting to register factory for plugin cuBLAS when one has already been registered\n",
      "2024-01-16 15:33:50.879312: W tensorflow/stream_executor/platform/default/dso_loader.cc:64] Could not load dynamic library 'libnvinfer.so.7'; dlerror: libnvinfer.so.7: cannot open shared object file: No such file or directory\n",
      "2024-01-16 15:33:50.879458: W tensorflow/stream_executor/platform/default/dso_loader.cc:64] Could not load dynamic library 'libnvinfer_plugin.so.7'; dlerror: libnvinfer_plugin.so.7: cannot open shared object file: No such file or directory\n",
      "2024-01-16 15:33:50.879470: W tensorflow/compiler/tf2tensorrt/utils/py_utils.cc:38] TF-TRT Warning: Cannot dlopen some TensorRT libraries. If you would like to use Nvidia GPU with TensorRT, please make sure the missing libraries mentioned above are installed properly.\n"
     ]
    }
   ],
   "source": [
    "import numpy as np\n",
    "import matplotlib.pyplot as plt\n",
    "import json\n",
    "import pandas as pd\n",
    "from gensim.corpora import Dictionary\n",
    "import string\n",
    "from nltk.tokenize import word_tokenize\n",
    "from sklearn.model_selection import train_test_split\n",
    "from tensorflow.keras.preprocessing import sequence\n",
    "from tensorflow.keras.models import Sequential\n",
    "from tensorflow.keras.layers import Dense, Embedding\n",
    "from tensorflow.keras.callbacks import EarlyStopping\n",
    "from keras.layers import LSTM\n",
    "from sklearn.metrics import roc_auc_score\n",
    "import boto3"
   ]
  },
  {
   "cell_type": "code",
   "execution_count": 14,
   "id": "5e757693-6186-4f78-af63-a6e26a3b55f5",
   "metadata": {},
   "outputs": [
    {
     "name": "stderr",
     "output_type": "stream",
     "text": [
      "[nltk_data] Downloading package punkt to /home/ubuntu/nltk_data...\n",
      "[nltk_data]   Unzipping tokenizers/punkt.zip.\n"
     ]
    },
    {
     "data": {
      "text/plain": [
       "True"
      ]
     },
     "execution_count": 14,
     "metadata": {},
     "output_type": "execute_result"
    }
   ],
   "source": [
    "import nltk\n",
    "nltk.download('punkt')"
   ]
  },
  {
   "cell_type": "code",
   "execution_count": 6,
   "id": "eab0cbb6-a423-47bd-9721-5a2a228391c3",
   "metadata": {},
   "outputs": [],
   "source": [
    "s3 = boto3.client('s3')\n",
    "response = s3.list_buckets()"
   ]
  },
  {
   "cell_type": "code",
   "execution_count": 8,
   "id": "2fc7d2fc-6980-4d10-99f1-0e682f4d21db",
   "metadata": {},
   "outputs": [
    {
     "data": {
      "text/plain": [
       "{'ResponseMetadata': {'RequestId': 'RSTZWX19Z1NHE4B0',\n",
       "  'HostId': 'BIpucu/Cf2/D9MJK3bHxsQdWt2AYtSGL7qA7aG2co2UQJZ3Cx0PTLt5TmrnJy2jHZAAsXIIzY6c=',\n",
       "  'HTTPStatusCode': 200,\n",
       "  'HTTPHeaders': {'x-amz-id-2': 'BIpucu/Cf2/D9MJK3bHxsQdWt2AYtSGL7qA7aG2co2UQJZ3Cx0PTLt5TmrnJy2jHZAAsXIIzY6c=',\n",
       "   'x-amz-request-id': 'RSTZWX19Z1NHE4B0',\n",
       "   'date': 'Tue, 16 Jan 2024 15:22:59 GMT',\n",
       "   'content-type': 'application/xml',\n",
       "   'transfer-encoding': 'chunked',\n",
       "   'server': 'AmazonS3'},\n",
       "  'RetryAttempts': 0},\n",
       " 'Buckets': [{'Name': 'bucket-raw-data16012024',\n",
       "   'CreationDate': datetime.datetime(2024, 1, 16, 11, 5, 24, tzinfo=tzlocal())}],\n",
       " 'Owner': {'DisplayName': 'awslabsc0w5526977t1680220615',\n",
       "  'ID': '2b1219a628bd6dd1359ef462f126229e4a6114704079943aa744ef8dc0d9d493'}}"
      ]
     },
     "execution_count": 8,
     "metadata": {},
     "output_type": "execute_result"
    }
   ],
   "source": [
    "response"
   ]
  },
  {
   "cell_type": "code",
   "execution_count": 2,
   "id": "553306e8-ec15-46be-a113-7e7a71f54716",
   "metadata": {},
   "outputs": [],
   "source": [
    "s3 = boto3.resource('s3')\n",
    "obj = s3.Object(bucket_name='bucket-raw-data16012024', key='sample.json')\n",
    "response = obj.get()\n",
    "data = response['Body'].read()"
   ]
  },
  {
   "cell_type": "code",
   "execution_count": 10,
   "id": "989014ed-f846-4a7e-a403-782c1de1f08b",
   "metadata": {},
   "outputs": [],
   "source": [
    "json_test = json.loads(data)"
   ]
  },
  {
   "cell_type": "code",
   "execution_count": 11,
   "id": "a670acb1-92cf-4eaa-b826-7bdd39ca1213",
   "metadata": {},
   "outputs": [],
   "source": [
    "df_pd = pd.DataFrame(json_test)"
   ]
  },
  {
   "cell_type": "code",
   "execution_count": 13,
   "id": "97c829c5-4444-4379-ac21-337a48eec1eb",
   "metadata": {},
   "outputs": [
    {
     "data": {
      "text/html": [
       "<div>\n",
       "<style scoped>\n",
       "    .dataframe tbody tr th:only-of-type {\n",
       "        vertical-align: middle;\n",
       "    }\n",
       "\n",
       "    .dataframe tbody tr th {\n",
       "        vertical-align: top;\n",
       "    }\n",
       "\n",
       "    .dataframe thead th {\n",
       "        text-align: right;\n",
       "    }\n",
       "</style>\n",
       "<table border=\"1\" class=\"dataframe\">\n",
       "  <thead>\n",
       "    <tr style=\"text-align: right;\">\n",
       "      <th></th>\n",
       "      <th>review_id</th>\n",
       "      <th>reviewer</th>\n",
       "      <th>movie</th>\n",
       "      <th>rating</th>\n",
       "      <th>review_summary</th>\n",
       "      <th>review_date</th>\n",
       "      <th>spoiler_tag</th>\n",
       "      <th>review_detail</th>\n",
       "      <th>helpful</th>\n",
       "    </tr>\n",
       "  </thead>\n",
       "  <tbody>\n",
       "    <tr>\n",
       "      <th>0</th>\n",
       "      <td>rw1133942</td>\n",
       "      <td>OriginalMovieBuff21</td>\n",
       "      <td>Kill Bill: Vol. 2 (2004)</td>\n",
       "      <td>8</td>\n",
       "      <td>Good follow up that answers all the questions</td>\n",
       "      <td>24 July 2005</td>\n",
       "      <td>0</td>\n",
       "      <td>After seeing Tarantino's Kill Bill Vol: 1, I g...</td>\n",
       "      <td>[0, 1]</td>\n",
       "    </tr>\n",
       "    <tr>\n",
       "      <th>1</th>\n",
       "      <td>rw1133943</td>\n",
       "      <td>sentra14</td>\n",
       "      <td>Journey to the Unknown (1968– )</td>\n",
       "      <td>None</td>\n",
       "      <td>Excellent series</td>\n",
       "      <td>24 July 2005</td>\n",
       "      <td>0</td>\n",
       "      <td>I have the entire series on video, taped mostl...</td>\n",
       "      <td>[11, 11]</td>\n",
       "    </tr>\n",
       "    <tr>\n",
       "      <th>2</th>\n",
       "      <td>rw1133946</td>\n",
       "      <td>GreenwheelFan2002</td>\n",
       "      <td>The Island (2005)</td>\n",
       "      <td>9</td>\n",
       "      <td>Not just about action, but about survival...</td>\n",
       "      <td>24 July 2005</td>\n",
       "      <td>0</td>\n",
       "      <td>Once again the critics prove themselves as mor...</td>\n",
       "      <td>[2, 5]</td>\n",
       "    </tr>\n",
       "    <tr>\n",
       "      <th>3</th>\n",
       "      <td>rw1133948</td>\n",
       "      <td>itsascreambaby</td>\n",
       "      <td>Win a Date with Tad Hamilton! (2004)</td>\n",
       "      <td>3</td>\n",
       "      <td>Falls under the category: seen it a million ti...</td>\n",
       "      <td>24 July 2005</td>\n",
       "      <td>0</td>\n",
       "      <td>This IS a film that has been done too many tim...</td>\n",
       "      <td>[2, 3]</td>\n",
       "    </tr>\n",
       "    <tr>\n",
       "      <th>4</th>\n",
       "      <td>rw1133949</td>\n",
       "      <td>OriginalMovieBuff21</td>\n",
       "      <td>Saturday Night Live: The Best of Chris Farley ...</td>\n",
       "      <td>10</td>\n",
       "      <td>Before Tommy Boy and Black Sheep, there was Sa...</td>\n",
       "      <td>24 July 2005</td>\n",
       "      <td>0</td>\n",
       "      <td>Chris Farley is one of my favorite comedians a...</td>\n",
       "      <td>[4, 4]</td>\n",
       "    </tr>\n",
       "    <tr>\n",
       "      <th>...</th>\n",
       "      <td>...</td>\n",
       "      <td>...</td>\n",
       "      <td>...</td>\n",
       "      <td>...</td>\n",
       "      <td>...</td>\n",
       "      <td>...</td>\n",
       "      <td>...</td>\n",
       "      <td>...</td>\n",
       "      <td>...</td>\n",
       "    </tr>\n",
       "    <tr>\n",
       "      <th>99995</th>\n",
       "      <td>rw1251330</td>\n",
       "      <td>shaleina03</td>\n",
       "      <td>Brokeback Mountain (2005)</td>\n",
       "      <td>10</td>\n",
       "      <td>Oscar Worthy</td>\n",
       "      <td>30 December 2005</td>\n",
       "      <td>0</td>\n",
       "      <td>This movie was amazing! Jake Gyllenhaal deserv...</td>\n",
       "      <td>[14, 16]</td>\n",
       "    </tr>\n",
       "    <tr>\n",
       "      <th>99996</th>\n",
       "      <td>rw1251331</td>\n",
       "      <td>DanB-4</td>\n",
       "      <td>Eternal Sunshine of the Spotless Mind (2004)</td>\n",
       "      <td>9</td>\n",
       "      <td>The Most Original Romance Film I Have Seen</td>\n",
       "      <td>30 December 2005</td>\n",
       "      <td>0</td>\n",
       "      <td>What a brilliant, original and challenging fil...</td>\n",
       "      <td>[0, 2]</td>\n",
       "    </tr>\n",
       "    <tr>\n",
       "      <th>99997</th>\n",
       "      <td>rw1251332</td>\n",
       "      <td>marilutravis</td>\n",
       "      <td>Summer's Lease (1989– )</td>\n",
       "      <td>10</td>\n",
       "      <td>Summer's Lease</td>\n",
       "      <td>30 December 2005</td>\n",
       "      <td>0</td>\n",
       "      <td>My husband and I were mesmerized when we saw t...</td>\n",
       "      <td>[7, 9]</td>\n",
       "    </tr>\n",
       "    <tr>\n",
       "      <th>99998</th>\n",
       "      <td>rw1251333</td>\n",
       "      <td>NYCDude</td>\n",
       "      <td>Loggerheads (2005)</td>\n",
       "      <td>10</td>\n",
       "      <td>The Adoption Triad: The child, the birth mothe...</td>\n",
       "      <td>30 December 2005</td>\n",
       "      <td>1</td>\n",
       "      <td>This is a beautiful, tightly written movie abo...</td>\n",
       "      <td>[4, 6]</td>\n",
       "    </tr>\n",
       "    <tr>\n",
       "      <th>99999</th>\n",
       "      <td>rw1251334</td>\n",
       "      <td>chamberienne</td>\n",
       "      <td>Anchorman: The Legend of Ron Burgundy (2004)</td>\n",
       "      <td>None</td>\n",
       "      <td>Steve Carrell Steals the Show</td>\n",
       "      <td>30 December 2005</td>\n",
       "      <td>0</td>\n",
       "      <td>So, I was bored at work one day and decided to...</td>\n",
       "      <td>[3, 4]</td>\n",
       "    </tr>\n",
       "  </tbody>\n",
       "</table>\n",
       "<p>100000 rows × 9 columns</p>\n",
       "</div>"
      ],
      "text/plain": [
       "       review_id             reviewer  \\\n",
       "0      rw1133942  OriginalMovieBuff21   \n",
       "1      rw1133943             sentra14   \n",
       "2      rw1133946    GreenwheelFan2002   \n",
       "3      rw1133948       itsascreambaby   \n",
       "4      rw1133949  OriginalMovieBuff21   \n",
       "...          ...                  ...   \n",
       "99995  rw1251330           shaleina03   \n",
       "99996  rw1251331               DanB-4   \n",
       "99997  rw1251332         marilutravis   \n",
       "99998  rw1251333              NYCDude   \n",
       "99999  rw1251334         chamberienne   \n",
       "\n",
       "                                                   movie rating  \\\n",
       "0                               Kill Bill: Vol. 2 (2004)      8   \n",
       "1                        Journey to the Unknown (1968– )   None   \n",
       "2                                      The Island (2005)      9   \n",
       "3                   Win a Date with Tad Hamilton! (2004)      3   \n",
       "4      Saturday Night Live: The Best of Chris Farley ...     10   \n",
       "...                                                  ...    ...   \n",
       "99995                          Brokeback Mountain (2005)     10   \n",
       "99996       Eternal Sunshine of the Spotless Mind (2004)      9   \n",
       "99997                            Summer's Lease (1989– )     10   \n",
       "99998                                 Loggerheads (2005)     10   \n",
       "99999       Anchorman: The Legend of Ron Burgundy (2004)   None   \n",
       "\n",
       "                                          review_summary       review_date  \\\n",
       "0          Good follow up that answers all the questions      24 July 2005   \n",
       "1                                       Excellent series      24 July 2005   \n",
       "2           Not just about action, but about survival...      24 July 2005   \n",
       "3      Falls under the category: seen it a million ti...      24 July 2005   \n",
       "4      Before Tommy Boy and Black Sheep, there was Sa...      24 July 2005   \n",
       "...                                                  ...               ...   \n",
       "99995                                       Oscar Worthy  30 December 2005   \n",
       "99996         The Most Original Romance Film I Have Seen  30 December 2005   \n",
       "99997                                     Summer's Lease  30 December 2005   \n",
       "99998  The Adoption Triad: The child, the birth mothe...  30 December 2005   \n",
       "99999                      Steve Carrell Steals the Show  30 December 2005   \n",
       "\n",
       "       spoiler_tag                                      review_detail  \\\n",
       "0                0  After seeing Tarantino's Kill Bill Vol: 1, I g...   \n",
       "1                0  I have the entire series on video, taped mostl...   \n",
       "2                0  Once again the critics prove themselves as mor...   \n",
       "3                0  This IS a film that has been done too many tim...   \n",
       "4                0  Chris Farley is one of my favorite comedians a...   \n",
       "...            ...                                                ...   \n",
       "99995            0  This movie was amazing! Jake Gyllenhaal deserv...   \n",
       "99996            0  What a brilliant, original and challenging fil...   \n",
       "99997            0  My husband and I were mesmerized when we saw t...   \n",
       "99998            1  This is a beautiful, tightly written movie abo...   \n",
       "99999            0  So, I was bored at work one day and decided to...   \n",
       "\n",
       "        helpful  \n",
       "0        [0, 1]  \n",
       "1      [11, 11]  \n",
       "2        [2, 5]  \n",
       "3        [2, 3]  \n",
       "4        [4, 4]  \n",
       "...         ...  \n",
       "99995  [14, 16]  \n",
       "99996    [0, 2]  \n",
       "99997    [7, 9]  \n",
       "99998    [4, 6]  \n",
       "99999    [3, 4]  \n",
       "\n",
       "[100000 rows x 9 columns]"
      ]
     },
     "execution_count": 13,
     "metadata": {},
     "output_type": "execute_result"
    }
   ],
   "source": [
    "df_pd"
   ]
  },
  {
   "cell_type": "code",
   "execution_count": 15,
   "id": "2c458e04-60de-4366-9539-70045aee4635",
   "metadata": {},
   "outputs": [],
   "source": [
    "punc = string.punctuation\n",
    "\n",
    "def wt(string):\n",
    "    return [w.lower() for w in word_tokenize(string)\n",
    "                if w.lower() not in punc]\n",
    "\n",
    "review_detail_clear = df_pd['review_detail'].apply(wt)\n",
    "dct = Dictionary(review_detail_clear)\n",
    "\n",
    "\n",
    "tokens_in_dataset = 5000\n",
    "document_max_len = 400\n",
    "batch_size = 32\n",
    "embedding_dim = 64"
   ]
  },
  {
   "cell_type": "code",
   "execution_count": 16,
   "id": "80981cb7-0486-40f4-af78-46b682f38708",
   "metadata": {},
   "outputs": [
    {
     "data": {
      "text/plain": [
       "0        [after, seeing, tarantino, 's, kill, bill, vol...\n",
       "1        [i, have, the, entire, series, on, video, tape...\n",
       "2        [once, again, the, critics, prove, themselves,...\n",
       "3        [this, is, a, film, that, has, been, done, too...\n",
       "4        [chris, farley, is, one, of, my, favorite, com...\n",
       "                               ...                        \n",
       "99995    [this, movie, was, amazing, jake, gyllenhaal, ...\n",
       "99996    [what, a, brilliant, original, and, challengin...\n",
       "99997    [my, husband, and, i, were, mesmerized, when, ...\n",
       "99998    [this, is, a, beautiful, tightly, written, mov...\n",
       "99999    [so, i, was, bored, at, work, one, day, and, d...\n",
       "Name: review_detail, Length: 100000, dtype: object"
      ]
     },
     "execution_count": 16,
     "metadata": {},
     "output_type": "execute_result"
    }
   ],
   "source": [
    "review_detail_clear"
   ]
  },
  {
   "cell_type": "code",
   "execution_count": 17,
   "id": "e93a5144-b2d5-4273-a9c0-91a5031e55bc",
   "metadata": {},
   "outputs": [],
   "source": [
    "# w ponizszym kroku kodujemy tokeny za pomoca slownika, a nastepnie\n",
    "# liczymy hashe (w uproszczony sposob), by ograniczyc wielkosc slownika do\n",
    "# embeddingu\n",
    "review_detail_idx = review_detail_clear.apply(lambda x: [y%tokens_in_dataset \n",
    "                                                         for y in dct.doc2idx(x)])\n",
    "\n",
    "target = np.array(df_pd['spoiler_tag'].copy())\n",
    "\n",
    "x_train, x_test, y_train, y_test = train_test_split(review_detail_idx,\n",
    "                                                    target, test_size = 0.3,\n",
    "                                                    random_state=12)"
   ]
  },
  {
   "cell_type": "code",
   "execution_count": 18,
   "id": "3f3cfd00-4264-42fd-9c28-0297a2d76bcb",
   "metadata": {},
   "outputs": [
    {
     "data": {
      "text/plain": [
       "(array([444., 260., 114.,  80.,  39.,  24.,  11.,  13.,   7.,   8.]),\n",
       " array([  87. ,  181.6,  276.2,  370.8,  465.4,  560. ,  654.6,  749.2,\n",
       "         843.8,  938.4, 1033. ]),\n",
       " <BarContainer object of 10 artists>)"
      ]
     },
     "execution_count": 18,
     "metadata": {},
     "output_type": "execute_result"
    },
    {
     "data": {
      "image/png": "[encoded data removed]",
      "text/plain": [
       "<Figure size 640x480 with 1 Axes>"
      ]
     },
     "metadata": {},
     "output_type": "display_data"
    }
   ],
   "source": [
    "plt.hist([len(x_train.iloc[i]) for i in range(1000)])"
   ]
  },
  {
   "cell_type": "code",
   "execution_count": 19,
   "id": "53504197-4a16-4782-a452-fbe7ebdb8811",
   "metadata": {},
   "outputs": [],
   "source": [
    "x_train = sequence.pad_sequences(x_train, maxlen=document_max_len, padding='pre', truncating='post')\n",
    "x_test = sequence.pad_sequences(x_test, maxlen=document_max_len, padding='pre', truncating='post')"
   ]
  },
  {
   "cell_type": "code",
   "execution_count": 20,
   "id": "9489965b-2b26-4639-92ed-d94d778b7172",
   "metadata": {},
   "outputs": [
    {
     "name": "stderr",
     "output_type": "stream",
     "text": [
      "2024-01-16 15:46:06.349169: W tensorflow/stream_executor/platform/default/dso_loader.cc:64] Could not load dynamic library 'libcuda.so.1'; dlerror: libcuda.so.1: cannot open shared object file: No such file or directory\n",
      "2024-01-16 15:46:06.349219: W tensorflow/stream_executor/cuda/cuda_driver.cc:263] failed call to cuInit: UNKNOWN ERROR (303)\n",
      "2024-01-16 15:46:06.349262: I tensorflow/stream_executor/cuda/cuda_diagnostics.cc:156] kernel driver does not appear to be running on this host (ip-172-31-89-90): /proc/driver/nvidia/version does not exist\n",
      "2024-01-16 15:46:06.349646: I tensorflow/core/platform/cpu_feature_guard.cc:193] This TensorFlow binary is optimized with oneAPI Deep Neural Network Library (oneDNN) to use the following CPU instructions in performance-critical operations:  AVX2 FMA\n",
      "To enable them in other operations, rebuild TensorFlow with the appropriate compiler flags.\n"
     ]
    },
    {
     "name": "stdout",
     "output_type": "stream",
     "text": [
      "Model: \"sequential\"\n",
      "_________________________________________________________________\n",
      " Layer (type)                Output Shape              Param #   \n",
      "=================================================================\n",
      " embedding (Embedding)       (None, 400, 64)           320000    \n",
      "                                                                 \n",
      " lstm (LSTM)                 (None, 400, 32)           12416     \n",
      "                                                                 \n",
      " lstm_1 (LSTM)               (None, 16)                3136      \n",
      "                                                                 \n",
      " dense (Dense)               (None, 16)                272       \n",
      "                                                                 \n",
      " dense_1 (Dense)             (None, 1)                 17        \n",
      "                                                                 \n",
      "=================================================================\n",
      "Total params: 335,841\n",
      "Trainable params: 335,841\n",
      "Non-trainable params: 0\n",
      "_________________________________________________________________\n"
     ]
    }
   ],
   "source": [
    "model = Sequential()\n",
    "\n",
    "model.add(Embedding(input_dim=tokens_in_dataset, # liczba unikalnych tokenów\n",
    "                    output_dim=embedding_dim, # wielkość embeddingu\n",
    "                    input_length=document_max_len, # długość sekwencji\n",
    "                    ))\n",
    "model.add(LSTM(units=32, activation='tanh', return_sequences=True))\n",
    "model.add(LSTM(units=16, activation='tanh', return_sequences=False))\n",
    "model.add(Dense(units=16, activation='relu'))\n",
    "model.add(Dense(units=1, activation='sigmoid'))\n",
    "\n",
    "model.compile(loss='binary_crossentropy',\n",
    "              optimizer='adam',\n",
    "              metrics=['accuracy'])\n",
    "\n",
    "es = EarlyStopping(patience=3, monitor='val_loss')\n",
    "model.summary()"
   ]
  },
  {
   "cell_type": "code",
   "execution_count": 21,
   "id": "79b80aa5-59ae-4c0c-93c1-d3f6a0706969",
   "metadata": {},
   "outputs": [
    {
     "name": "stdout",
     "output_type": "stream",
     "text": [
      "Epoch 1/20\n"
     ]
    },
    {
     "name": "stderr",
     "output_type": "stream",
     "text": [
      "2024-01-16 15:46:23.406893: W tensorflow/core/framework/cpu_allocator_impl.cc:82] Allocation of 89600000 exceeds 10% of free system memory.\n"
     ]
    },
    {
     "name": "stdout",
     "output_type": "stream",
     "text": [
      "1750/1750 [==============================] - 480s 272ms/step - loss: 0.5288 - accuracy: 0.7737 - val_loss: 0.5025 - val_accuracy: 0.7743\n",
      "Epoch 2/20\n",
      "1750/1750 [==============================] - 477s 273ms/step - loss: 0.5133 - accuracy: 0.7747 - val_loss: 0.5259 - val_accuracy: 0.7743\n",
      "Epoch 3/20\n",
      "1750/1750 [==============================] - 471s 269ms/step - loss: 0.4855 - accuracy: 0.7779 - val_loss: 0.4881 - val_accuracy: 0.7774\n",
      "Epoch 4/20\n",
      "1750/1750 [==============================] - 474s 271ms/step - loss: 0.4474 - accuracy: 0.7974 - val_loss: 0.4780 - val_accuracy: 0.7889\n",
      "Epoch 5/20\n",
      "1750/1750 [==============================] - 476s 272ms/step - loss: 0.4187 - accuracy: 0.8119 - val_loss: 0.4955 - val_accuracy: 0.7689\n",
      "Epoch 6/20\n",
      "1750/1750 [==============================] - 476s 272ms/step - loss: 0.3889 - accuracy: 0.8274 - val_loss: 0.5067 - val_accuracy: 0.7769\n",
      "Epoch 7/20\n",
      "1750/1750 [==============================] - 476s 272ms/step - loss: 0.3638 - accuracy: 0.8411 - val_loss: 0.5386 - val_accuracy: 0.7581\n"
     ]
    },
    {
     "data": {
      "text/plain": [
       "<keras.callbacks.History at 0x7f25f1eb0280>"
      ]
     },
     "execution_count": 21,
     "metadata": {},
     "output_type": "execute_result"
    }
   ],
   "source": [
    "model.fit(x_train, y_train, batch_size=batch_size,\n",
    "          callbacks=[es],\n",
    "          validation_split=0.2,\n",
    "          epochs=20)"
   ]
  },
  {
   "cell_type": "code",
   "execution_count": 22,
   "id": "61c96945-58ad-4fe7-9dc6-790e383cccff",
   "metadata": {},
   "outputs": [
    {
     "name": "stdout",
     "output_type": "stream",
     "text": [
      "938/938 [==============================] - 63s 67ms/step - loss: 0.5337 - accuracy: 0.7559\n"
     ]
    },
    {
     "data": {
      "text/plain": [
       "[0.5337475538253784, 0.7559000253677368]"
      ]
     },
     "execution_count": 22,
     "metadata": {},
     "output_type": "execute_result"
    }
   ],
   "source": [
    "model.evaluate(x_test,y_test)"
   ]
  },
  {
   "cell_type": "code",
   "execution_count": 23,
   "id": "b00620b3-c225-4dea-ba1c-b57264b91805",
   "metadata": {},
   "outputs": [
    {
     "name": "stderr",
     "output_type": "stream",
     "text": [
      "2024-01-16 16:44:13.820221: W tensorflow/core/framework/cpu_allocator_impl.cc:82] Allocation of 112000000 exceeds 10% of free system memory.\n"
     ]
    },
    {
     "name": "stdout",
     "output_type": "stream",
     "text": [
      "2188/2188 [==============================] - 146s 66ms/step\n",
      "938/938 [==============================] - 62s 66ms/step\n",
      "{'train': 0.871267179678177, 'test': 0.6941233042764144}\n"
     ]
    }
   ],
   "source": [
    "prob_pred_train = model.predict(x_train)\n",
    "prob_pred_test = model.predict(x_test)\n",
    "AUC = {\n",
    "       'train': roc_auc_score(y_train,prob_pred_train),\n",
    "       'test': roc_auc_score(y_test,prob_pred_test),\n",
    "       }\n",
    "\n",
    "print(AUC)"
   ]
  },
  {
   "cell_type": "code",
   "execution_count": null,
   "id": "a90a2658-5202-4b95-af88-9e9485a3cc61",
   "metadata": {},
   "outputs": [],
   "source": []
  }
 ],
 "metadata": {
  "kernelspec": {
   "display_name": "Python 3 (ipykernel)",
   "language": "python",
   "name": "python3"
  },
  "language_info": {
   "codemirror_mode": {
    "name": "ipython",
    "version": 3
   },
   "file_extension": ".py",
   "mimetype": "text/x-python",
   "name": "python",
   "nbconvert_exporter": "python",
   "pygments_lexer": "ipython3",
   "version": "3.10.12"
  }
 },
 "nbformat": 4,
 "nbformat_minor": 5
}
